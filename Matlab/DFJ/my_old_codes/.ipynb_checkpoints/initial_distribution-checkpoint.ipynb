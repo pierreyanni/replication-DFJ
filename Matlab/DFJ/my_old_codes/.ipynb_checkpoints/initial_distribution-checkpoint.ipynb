{
 "cells": [
  {
   "cell_type": "code",
   "execution_count": 1,
   "metadata": {},
   "outputs": [],
   "source": [
    "import pandas as pd\n",
    "import numpy as np\n",
    "import matplotlib.pyplot as plt\n",
    "pd.options.display.max_columns = None"
   ]
  },
  {
   "cell_type": "code",
   "execution_count": 4,
   "metadata": {},
   "outputs": [],
   "source": [
    "df = pd.read_stata('dataprep2.dta')"
   ]
  },
  {
   "cell_type": "code",
   "execution_count": 118,
   "metadata": {
    "scrolled": true
   },
   "outputs": [],
   "source": [
    "# preparing the data to be used in matlab; first pass:\n",
    "# data has not been checked and could be prepared more carefully\n",
    "\n",
    "cohort_list = ['cohort' + str(x) for x in range(1,6)]\n",
    "time_list = ['time' + str(x) for x in range(1,8)]\n",
    "df2 = df.loc[df['realyear'] > 94, # asset data for 1994 is underreported and hence not used\n",
    "         ['HHID', 'age','male', 'PI', 'heal', 'assets'] \\\n",
    "             + time_list+ cohort_list].copy()\n",
    "\n",
    "list_ind = df2['HHID'].unique()\n",
    "df2 = df2[df2['HHID'].isin(list_ind)] \n",
    "\n",
    "def get_dum(row, col_names):\n",
    "    for c in col_names:\n",
    "        if row[c] == 1:\n",
    "            return int(c[-1])\n",
    "df2['time'] = df2.loc[:, time_list].apply(get_dum, args = (time_list,), axis=1)\n",
    "df2['cohort'] = df2.loc[:, cohort_list].apply(get_dum, args = (cohort_list,), axis=1)\n",
    "df2.drop(time_list+cohort_list, axis=1, inplace=True)\n",
    "\n",
    "df2['PI'] = df2.groupby('HHID')['PI'].transform('mean')\n",
    "df2.rename(inplace=True, \n",
    "           columns={'male':'g', 'heal': 'h', 'assets': 'a', 'PI': 'I'})\n",
    "bins = np.linspace(0, 1, num=6, endpoint=True)\n",
    "names = [x for x in range(1,6)]\n",
    "df2['quintile'] = pd.cut(df2['I'], bins, labels=names)\n",
    "df2['cohort'] = df2['cohort'].replace({5:4}) -1 # group last category and start at 1\n",
    "\n",
    "df2.dropna(inplace=True)\n",
    "\n",
    "df3 = df2.sort_values('time').groupby('HHID').first()\n",
    "\n",
    "df3 = df3[[ 'g', 'I', 'h', 'a', 'age', 'time', 'quintile', 'cohort']]\n",
    "\n",
    "# prepare data for use in matlab\n",
    "\n",
    "df3.to_csv('assets.csv', header=False)"
   ]
  }
 ],
 "metadata": {
  "kernelspec": {
   "display_name": "Python 3",
   "language": "python",
   "name": "python3"
  },
  "language_info": {
   "codemirror_mode": {
    "name": "ipython",
    "version": 3
   },
   "file_extension": ".py",
   "mimetype": "text/x-python",
   "name": "python",
   "nbconvert_exporter": "python",
   "pygments_lexer": "ipython3",
   "version": "3.6.4"
  }
 },
 "nbformat": 4,
 "nbformat_minor": 2
}
