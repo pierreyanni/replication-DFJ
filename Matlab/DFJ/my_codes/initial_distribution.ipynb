{
 "cells": [
  {
   "cell_type": "code",
   "execution_count": 1,
   "metadata": {},
   "outputs": [],
   "source": [
    "import pandas as pd\n",
    "import numpy as np\n",
    "import matplotlib.pyplot as plt\n",
    "pd.options.display.max_columns = None"
   ]
  },
  {
   "cell_type": "code",
   "execution_count": 2,
   "metadata": {
    "scrolled": true
   },
   "outputs": [],
   "source": [
    "# preparing the data to be used in matlab; first pass:\n",
    "# data has not been checked and could be prepared more carefully\n",
    "\n",
    "df = pd.read_stata('../../../python/raw_data/dataprep2.dta')\n",
    "\n",
    "cohort_list = ['cohort' + str(x) for x in range(1,8)]\n",
    "time_list = ['time' + str(x) for x in range(1,8)]\n",
    "df2 = df.loc[df['realyear'] > 94, # asset data for 1994 is underreported and hence not used\n",
    "         ['HHID', 'age','male', 'PI', 'heal', 'assets', 'hhinc', 'medcost', 'realyear'] \\\n",
    "             + time_list+ cohort_list].copy()\n",
    "\n",
    "# convert time1-time7 and cohort1-cohort6 to time and cohort vars\n",
    "def get_dum(row, col_names):  \n",
    "    for c in col_names:\n",
    "        if row[c] == 1:\n",
    "            return int(c[-1])\n",
    "df2['time'] = df2.loc[:, time_list].apply(get_dum, args = (time_list,), axis=1)\n",
    "df2['cohort'] = df2.loc[:, cohort_list].apply(get_dum, args = (cohort_list,), axis=1)\n",
    "df2.drop(time_list+cohort_list, axis=1, inplace=True)\n",
    "\n",
    "df2['PI'] = df2.groupby('HHID')['PI'].transform('mean')\n",
    "df2.rename(inplace=True, \n",
    "           columns={'male': 'g', 'heal': 'h', 'assets': 'a', \n",
    "                    'hhinc': 'inc', 'PI': 'I', 'medcost': 'med'})\n",
    "bins = np.linspace(0, 1, num=6, endpoint=True)\n",
    "names = [x for x in range(1,6)]\n",
    "df2['quintile'] = pd.cut(df2['I'], bins, labels=names)\n",
    "df2['cohort'] = df2['cohort'].replace({7:6}) -1 # group last category and start at 1\n",
    "\n",
    "df3 = df2.loc[df2.realyear == 96,].dropna(subset=['a', 'med'])\n",
    "\n",
    "df3 = df3[[ 'g', 'I', 'h', 'a', 'inc', 'med', 'age', 'quintile', 'time', 'cohort']]\n",
    "df3 = df3[df3['age']<100]\n",
    "\n",
    "# prepare data for use in matlab\n",
    "\n",
    "df3.to_csv('../data/data_init.csv')"
   ]
  },
  {
   "cell_type": "code",
   "execution_count": 5,
   "metadata": {},
   "outputs": [],
   "source": [
    "cohort1 = df2.loc[df2['age'].between(74,84) & (df2['g'] == 0) & (df2['cohort'] == 1),] \\\n",
    "        . groupby(['quintile','age']) \\\n",
    "        .agg({'a': 'median'}).unstack('quintile')\n",
    "cohort1all = df2.loc[df2['age'].between(74, 84) & (df2['g'] == 0) & (df2['cohort'] == 1),] \\\n",
    "        . groupby(['age']) \\\n",
    "        .agg({'a': 'median'})\n",
    "cohort1 = pd.concat([cohort1, cohort1all], axis= 1)\n",
    "cohort1.columns = ['q' + str(i) for i in range(1,6)] + ['all']\n",
    "cohort1.to_csv('../data/cohort1_female.csv')\n",
    "\n",
    "cohort1 = df2.loc[df2['age'].between(74,84) & (df2['g'] == 1) & (df2['cohort'] == 1),] \\\n",
    "        . groupby(['quintile','age']) \\\n",
    "        .agg({'a': 'median'}).unstack('quintile')\n",
    "cohort1all = df2.loc[df2['age'].between(74, 84) & (df2['g'] == 1) & (df2['cohort'] == 1),] \\\n",
    "        . groupby(['age']) \\\n",
    "        .agg({'a': 'median'})\n",
    "cohort1 = pd.concat([cohort1, cohort1all], axis= 1)\n",
    "cohort1.columns = ['q' + str(i) for i in range(1,6)] + ['all']\n",
    "cohort1.to_csv('../data/cohort1_male.csv')"
   ]
  },
  {
   "cell_type": "code",
   "execution_count": 6,
   "metadata": {},
   "outputs": [],
   "source": [
    "cohort2 = df2.loc[df2['age'].between(84, 94) & (df2['g'] == 0) & (df2['cohort'] == 2),] \\\n",
    "        . groupby(['quintile','age']) \\\n",
    "        .agg({'a': 'median'}).unstack('quintile')\n",
    "cohort2all = df2.loc[df2['age'].between(84, 94) & (df2['g'] == 0) & (df2['cohort'] == 2),] \\\n",
    "        . groupby(['age']) \\\n",
    "        .agg({'a': 'median'})\n",
    "cohort2 = pd.concat([cohort2, cohort2all], axis= 1)\n",
    "cohort2.columns = ['q' + str(i) for i in range(1,6)] + ['all']\n",
    "cohort2.to_csv('cohort2.csv')"
   ]
  }
 ],
 "metadata": {
  "kernelspec": {
   "display_name": "Python 3",
   "language": "python",
   "name": "python3"
  },
  "language_info": {
   "codemirror_mode": {
    "name": "ipython",
    "version": 3
   },
   "file_extension": ".py",
   "mimetype": "text/x-python",
   "name": "python",
   "nbconvert_exporter": "python",
   "pygments_lexer": "ipython3",
   "version": "3.7.2"
  }
 },
 "nbformat": 4,
 "nbformat_minor": 2
}
