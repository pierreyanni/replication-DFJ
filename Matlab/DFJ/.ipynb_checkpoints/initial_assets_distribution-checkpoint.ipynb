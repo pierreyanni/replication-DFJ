{
 "cells": [
  {
   "cell_type": "code",
   "execution_count": 102,
   "metadata": {},
   "outputs": [
    {
     "ename": "ModuleNotFoundError",
     "evalue": "No module named 'cooltricks'",
     "output_type": "error",
     "traceback": [
      "\u001b[0;31m---------------------------------------------------------------------------\u001b[0m",
      "\u001b[0;31mModuleNotFoundError\u001b[0m                       Traceback (most recent call last)",
      "\u001b[0;32m<ipython-input-102-bb1b02ff81fa>\u001b[0m in \u001b[0;36m<module>\u001b[0;34m()\u001b[0m\n\u001b[1;32m      3\u001b[0m \u001b[0;32mimport\u001b[0m \u001b[0mmatplotlib\u001b[0m\u001b[0;34m.\u001b[0m\u001b[0mpyplot\u001b[0m \u001b[0;32mas\u001b[0m \u001b[0mplt\u001b[0m\u001b[0;34m\u001b[0m\u001b[0m\n\u001b[1;32m      4\u001b[0m \u001b[0mpd\u001b[0m\u001b[0;34m.\u001b[0m\u001b[0moptions\u001b[0m\u001b[0;34m.\u001b[0m\u001b[0mdisplay\u001b[0m\u001b[0;34m.\u001b[0m\u001b[0mmax_columns\u001b[0m \u001b[0;34m=\u001b[0m \u001b[0;32mNone\u001b[0m\u001b[0;34m\u001b[0m\u001b[0m\n\u001b[0;32m----> 5\u001b[0;31m \u001b[0;32mimport\u001b[0m \u001b[0mcooltricks\u001b[0m \u001b[0;32mas\u001b[0m \u001b[0mct\u001b[0m\u001b[0;34m\u001b[0m\u001b[0m\n\u001b[0m",
      "\u001b[0;31mModuleNotFoundError\u001b[0m: No module named 'cooltricks'"
     ]
    }
   ],
   "source": [
    "import pandas as pd\n",
    "import numpy as np\n",
    "import matplotlib.pyplot as plt\n",
    "pd.options.display.max_columns = None"
   ]
  },
  {
   "cell_type": "code",
   "execution_count": 46,
   "metadata": {},
   "outputs": [],
   "source": [
    "df = pd.read_stata('dataprep2.dta')"
   ]
  },
  {
   "cell_type": "code",
   "execution_count": 162,
   "metadata": {
    "scrolled": true
   },
   "outputs": [],
   "source": [
    "time_list = ['time' + str(x) for x in range(1,8)]\n",
    "cohort_list = ['cohort' + str(x) for x in range(1,8)]\n",
    "df2 = df[['HHID','realyear', 'wave', 'dead', 'assets', 'age'] + time_list + cohort_list]\n",
    "\n",
    "list_ind = df2.loc[(df2['realyear'] > 94) & (df2['dead'] == 0), 'HHID'].unique()\n",
    "df2 = df2[df2['HHID'].isin(list_ind)] # asset data for 1994 is underreported and hence not used\n",
    "df2 = df2[df2['realyear'] > 94]\n",
    "\n",
    "def get_dum(row, col_names):\n",
    "    for c in col_names:\n",
    "        if row[c] == 1:\n",
    "            return int(c[-1])\n",
    "df2['time'] = df2.loc[:, time_list].apply(get_dum, args = (time_list,), axis=1)\n",
    "df2['cohort'] = df2.loc[:, cohort_list].apply(get_dum, args = (cohort_list,), axis=1)\n",
    "df2.drop(time_list+cohort_list, axis=1, inplace=True)\n",
    "\n",
    "# initial assets by cohort according to paper; some grouping and errors(?) corrected\n",
    "df3 = df2[df2['realyear'] == 96].copy()\n",
    "bins = [71, 76, 81, 86, 91, 102]\n",
    "names = [x for x in range(1,6)]\n",
    "df3['cohort'] = pd.cut(df3['age'], bins, labels=names)\n",
    "\n",
    "# prepare data for use in matlab\n",
    "df_assets = df3[['cohort','assets']].sort_values('cohort').dropna().set_index('cohort')\n",
    "df_assets.to_csv('assets.csv', header=False)"
   ]
  },
  {
   "cell_type": "code",
   "execution_count": 160,
   "metadata": {},
   "outputs": [
    {
     "data": {
      "text/plain": [
       "0"
      ]
     },
     "execution_count": 160,
     "metadata": {},
     "output_type": "execute_result"
    }
   ],
   "source": [
    "df_assets.index.isna().sum()"
   ]
  },
  {
   "cell_type": "code",
   "execution_count": 145,
   "metadata": {
    "scrolled": true
   },
   "outputs": [
    {
     "data": {
      "text/html": [
       "<div>\n",
       "<style scoped>\n",
       "    .dataframe tbody tr th:only-of-type {\n",
       "        vertical-align: middle;\n",
       "    }\n",
       "\n",
       "    .dataframe tbody tr th {\n",
       "        vertical-align: top;\n",
       "    }\n",
       "\n",
       "    .dataframe thead tr th {\n",
       "        text-align: left;\n",
       "    }\n",
       "\n",
       "    .dataframe thead tr:last-of-type th {\n",
       "        text-align: right;\n",
       "    }\n",
       "</style>\n",
       "<table border=\"1\" class=\"dataframe\">\n",
       "  <thead>\n",
       "    <tr>\n",
       "      <th></th>\n",
       "      <th colspan=\"8\" halign=\"left\">assets</th>\n",
       "    </tr>\n",
       "    <tr>\n",
       "      <th></th>\n",
       "      <th>count</th>\n",
       "      <th>mean</th>\n",
       "      <th>std</th>\n",
       "      <th>min</th>\n",
       "      <th>25%</th>\n",
       "      <th>50%</th>\n",
       "      <th>75%</th>\n",
       "      <th>max</th>\n",
       "    </tr>\n",
       "    <tr>\n",
       "      <th>cohort</th>\n",
       "      <th></th>\n",
       "      <th></th>\n",
       "      <th></th>\n",
       "      <th></th>\n",
       "      <th></th>\n",
       "      <th></th>\n",
       "      <th></th>\n",
       "      <th></th>\n",
       "    </tr>\n",
       "  </thead>\n",
       "  <tbody>\n",
       "    <tr>\n",
       "      <th>1</th>\n",
       "      <td>711.0</td>\n",
       "      <td>157857.468750</td>\n",
       "      <td>378887.09375</td>\n",
       "      <td>-41877.550781</td>\n",
       "      <td>7066.836670</td>\n",
       "      <td>57581.632812</td>\n",
       "      <td>165083.921875</td>\n",
       "      <td>4678984.00</td>\n",
       "    </tr>\n",
       "    <tr>\n",
       "      <th>2</th>\n",
       "      <td>745.0</td>\n",
       "      <td>152657.546875</td>\n",
       "      <td>507216.28125</td>\n",
       "      <td>-12772.375000</td>\n",
       "      <td>6281.632812</td>\n",
       "      <td>54440.816406</td>\n",
       "      <td>142383.671875</td>\n",
       "      <td>10000000.00</td>\n",
       "    </tr>\n",
       "    <tr>\n",
       "      <th>3</th>\n",
       "      <td>645.0</td>\n",
       "      <td>136429.281250</td>\n",
       "      <td>472914.06250</td>\n",
       "      <td>-10469.387695</td>\n",
       "      <td>2617.346924</td>\n",
       "      <td>44808.980469</td>\n",
       "      <td>120712.039062</td>\n",
       "      <td>10000000.00</td>\n",
       "    </tr>\n",
       "    <tr>\n",
       "      <th>4</th>\n",
       "      <td>366.0</td>\n",
       "      <td>135908.312500</td>\n",
       "      <td>299462.37500</td>\n",
       "      <td>-1570.408203</td>\n",
       "      <td>3140.816406</td>\n",
       "      <td>39711.957031</td>\n",
       "      <td>111012.416016</td>\n",
       "      <td>2202012.25</td>\n",
       "    </tr>\n",
       "    <tr>\n",
       "      <th>5</th>\n",
       "      <td>159.0</td>\n",
       "      <td>189394.390625</td>\n",
       "      <td>649725.25000</td>\n",
       "      <td>0.000000</td>\n",
       "      <td>680.510223</td>\n",
       "      <td>20938.775391</td>\n",
       "      <td>100244.390625</td>\n",
       "      <td>5117605.00</td>\n",
       "    </tr>\n",
       "  </tbody>\n",
       "</table>\n",
       "</div>"
      ],
      "text/plain": [
       "       assets                                                          \\\n",
       "        count           mean           std           min          25%   \n",
       "cohort                                                                  \n",
       "1       711.0  157857.468750  378887.09375 -41877.550781  7066.836670   \n",
       "2       745.0  152657.546875  507216.28125 -12772.375000  6281.632812   \n",
       "3       645.0  136429.281250  472914.06250 -10469.387695  2617.346924   \n",
       "4       366.0  135908.312500  299462.37500  -1570.408203  3140.816406   \n",
       "5       159.0  189394.390625  649725.25000      0.000000   680.510223   \n",
       "\n",
       "                                                  \n",
       "                 50%            75%          max  \n",
       "cohort                                            \n",
       "1       57581.632812  165083.921875   4678984.00  \n",
       "2       54440.816406  142383.671875  10000000.00  \n",
       "3       44808.980469  120712.039062  10000000.00  \n",
       "4       39711.957031  111012.416016   2202012.25  \n",
       "5       20938.775391  100244.390625   5117605.00  "
      ]
     },
     "execution_count": 145,
     "metadata": {},
     "output_type": "execute_result"
    }
   ],
   "source": [
    "df3.groupby('cohort').agg({'assets': 'describe'})"
   ]
  }
 ],
 "metadata": {
  "kernelspec": {
   "display_name": "Python 3",
   "language": "python",
   "name": "python3"
  },
  "language_info": {
   "codemirror_mode": {
    "name": "ipython",
    "version": 3
   },
   "file_extension": ".py",
   "mimetype": "text/x-python",
   "name": "python",
   "nbconvert_exporter": "python",
   "pygments_lexer": "ipython3",
   "version": "3.6.4"
  }
 },
 "nbformat": 4,
 "nbformat_minor": 2
}
